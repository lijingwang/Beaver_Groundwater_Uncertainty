{
 "cells": [
  {
   "cell_type": "code",
   "execution_count": null,
   "id": "d71f0d47-b79e-4a16-baf9-afae314339cc",
   "metadata": {},
   "outputs": [],
   "source": [
    "import os\n",
    "import numpy as np\n",
    "import pandas as pd\n",
    "import matplotlib.pyplot as plt\n",
    "import seaborn as sns\n",
    "from numpy.linalg import norm\n",
    "import flopy\n",
    "import flopy.utils.binaryfile as bf\n",
    "%matplotlib inline\n",
    "%config InlineBackend.figure_format='retina'\n",
    "import rasterio\n",
    "from scipy.ndimage import maximum_filter\n",
    "from scipy.interpolate import griddata\n",
    "import sys\n",
    "\n",
    "sys.path.append('../scripts/')\n",
    "\n",
    "from Slate_Floodplain_MODFLOW import *"
   ]
  },
  {
   "cell_type": "code",
   "execution_count": null,
   "id": "0b070fcc-c058-475d-aaef-44dd4f9a199c",
   "metadata": {},
   "outputs": [],
   "source": [
    "DEM  = rasterio.open('../data/characterization_data/UAS/DEM_RTK.tif').read(1)\n",
    "no_DEM_mask = DEM<0\n",
    "DEM[DEM<0] = 2740.\n",
    "\n",
    "downstream = np.load('../data/characterization_data/Beaver_pond_dam/floodplain_downstream.npy')\n",
    "upstream = np.load('../data/characterization_data/Beaver_pond_dam/floodplain_upstream.npy')\n",
    "downstream[:,300:] = 0"
   ]
  },
  {
   "cell_type": "markdown",
   "id": "eb24a909-767c-4b7f-88b4-bae0086040c0",
   "metadata": {},
   "source": [
    "# Run MODFLOW model with no flow boundary\n",
    "\n",
    "This no flow boundary set at least 150m away from our instrumented area, which has less impact on the final simulations for our target locations near the beaver pond. "
   ]
  },
  {
   "cell_type": "markdown",
   "id": "edb9dc8f-b30a-413c-af4f-c5e84da52494",
   "metadata": {},
   "source": [
    "# Monte Carlo Simulation"
   ]
  },
  {
   "cell_type": "code",
   "execution_count": null,
   "id": "c0ad10d2-31ee-43dd-8963-5385b31751a0",
   "metadata": {},
   "outputs": [],
   "source": [
    "# Default values \n",
    "hk_gravel = 2e-3 #m/s\n",
    "hk_soil = 1.4e-5 #m/s\n",
    "vka_ratio_gravel = 0.5 #m/s\n",
    "vka_ratio_soil = 0.1 #m/s\n",
    "k_dam = 1e-7 #m/s\n",
    "\n",
    "precip = 2e-3 #m/d\n",
    "ET = 2e-3 #m/d"
   ]
  },
  {
   "cell_type": "code",
   "execution_count": null,
   "id": "046011c9-0e81-4ca5-8c35-b97c60250824",
   "metadata": {},
   "outputs": [],
   "source": [
    "mf,head,hk,vka,strt,zbot,flf,frf = modflow_BC(hk_gravel,hk_soil,vka_ratio_gravel,vka_ratio_soil,k_dam,\n",
    "                                              ET,precip-ET, 'test', './baseflow_test')"
   ]
  },
  {
   "cell_type": "markdown",
   "id": "a53a6ac9-9775-43f9-9f43-2cb3dc9c804f",
   "metadata": {},
   "source": [
    "# MC simulations, Set 1, baseflow"
   ]
  },
  {
   "cell_type": "code",
   "execution_count": null,
   "id": "9c953d4d-b358-4dcd-9232-a9e9e322e69c",
   "metadata": {},
   "outputs": [],
   "source": [
    "num_MC = 300\n",
    "\n",
    "np.random.seed(2024)\n",
    "# Generate random values for hydraulic conductivity parameters\n",
    "hk_gravel = np.power(10, np.random.uniform(low=-4, high=-2, size=num_MC))\n",
    "hk_soil = np.power(10, np.random.uniform(low=-6, high=-4, size=num_MC))\n",
    "vka_ratio_gravel = np.power(10, np.random.uniform(low=-2, high=0, size=num_MC))\n",
    "vka_ratio_soil = np.power(10, np.random.uniform(low=-2, high=0, size=num_MC))\n",
    "k_dam = np.power(10, np.random.uniform(low=-8, high=-6, size=num_MC))\n",
    "\n",
    "# Create a DataFrame to store the random values\n",
    "data = {\n",
    "    'hk_gravel': hk_gravel,\n",
    "    'hk_soil': hk_soil,\n",
    "    'vka_ratio_gravel': vka_ratio_gravel,\n",
    "    'vka_ratio_soil': vka_ratio_soil,\n",
    "    'k_dam': k_dam\n",
    "}\n",
    "\n",
    "df = pd.DataFrame(data)\n",
    "\n",
    "# Save the DataFrame to a CSV file\n",
    "df.to_csv('Prior_Simulation/Prior_Parameters.csv', index=False)"
   ]
  },
  {
   "cell_type": "code",
   "execution_count": null,
   "id": "e3db12d4-c83a-413b-b426-1e0e91cd868e",
   "metadata": {},
   "outputs": [],
   "source": [
    "precip = 2e-3 #m/d\n",
    "ET = 2e-3 #m/d\n",
    "\n",
    "for i in range(300):\n",
    "    hk_gravel,hk_soil,vka_ratio_gravel,vka_ratio_soil,k_dam = df.iloc[i]\n",
    "    mf,head,hk,vka,strt,zbot,flf,frf = modflow_BC(hk_gravel,hk_soil,vka_ratio_gravel,vka_ratio_soil,k_dam,\n",
    "                                                  ET,precip-ET, 'sim'+str(i).zfill(3), 'Prior_Simulation/sim'+str(i).zfill(3))\n",
    "    print(i)"
   ]
  },
  {
   "cell_type": "markdown",
   "id": "8e2abe4a-68a5-4e3a-a564-0b759197824a",
   "metadata": {},
   "source": [
    "# MC simulations, Set 3, Simulation for other possible floodplains: varying floodplain structures, hydraulic properties, ET, precip, ponding period\n"
   ]
  },
  {
   "cell_type": "code",
   "execution_count": null,
   "id": "aed6d9a1-ed5f-49a8-8788-2a93cf0157cd",
   "metadata": {},
   "outputs": [],
   "source": [
    "num_MC = 500\n",
    "np.random.seed(2024)\n",
    "\n",
    "# Generate random values for hydraulic conductivity parameters\n",
    "hk_gravel = np.power(10, np.random.uniform(low=-4, high=-2, size=num_MC))\n",
    "hk_soil = np.power(10, np.random.uniform(low=-6, high=-4, size=num_MC))\n",
    "vka_ratio_gravel = np.power(10, np.random.uniform(low=-2, high=0, size=num_MC))\n",
    "vka_ratio_soil = np.power(10, np.random.uniform(low=-2, high=0, size=num_MC))\n",
    "k_dam = np.power(10, np.random.uniform(low=-8, high=-6, size=num_MC))\n",
    "ET = np.random.uniform(low=0, high=5e-3, size=num_MC)\n",
    "precip = np.random.uniform(low=0, high=5e-3, size=num_MC)\n",
    "\n",
    "periods = np.array(['baseflow','snowmelt','dry'])\n",
    "\n",
    "# Perform random sampling\n",
    "period = np.random.choice(periods, size=num_MC, replace=True)\n",
    "structure_ratio1 = np.random.uniform(low=0, high=2, size=num_MC)\n",
    "structure_ratio2 = np.random.uniform(low=0, high=2, size=num_MC)\n",
    "\n",
    "\n",
    "# Create a DataFrame to store the random values\n",
    "data = {\n",
    "    'hk_gravel': hk_gravel,\n",
    "    'hk_soil': hk_soil,\n",
    "    'vka_ratio_gravel': vka_ratio_gravel,\n",
    "    'vka_ratio_soil': vka_ratio_soil,\n",
    "    'k_dam': k_dam, \n",
    "    'ET': ET, \n",
    "    'precip': precip, \n",
    "    'period': period, \n",
    "    'structure_ratio1': structure_ratio1, \n",
    "    'structure_ratio2': structure_ratio2, \n",
    "}\n",
    "\n",
    "df = pd.DataFrame(data)\n",
    "\n",
    "# Save the DataFrame to a CSV file\n",
    "df.to_csv('Simulation_More_Variations/Parameters.csv', index=False)"
   ]
  },
  {
   "cell_type": "code",
   "execution_count": null,
   "id": "bd93ae88-4119-4ed2-b406-0918a094af35",
   "metadata": {},
   "outputs": [],
   "source": [
    "success_label = np.zeros(num_MC)+1\n",
    "for i in range(num_MC):\n",
    "    hk_gravel, hk_soil, vka_ratio_gravel, vka_ratio_soil, k_dam, ET, precip, period, structure_ratio1, structure_ratio2 = df.iloc[i]\n",
    "    mf, head, hk, vka, strt, zbot, flf, frf = modflow_BC(hk_gravel,hk_soil,vka_ratio_gravel,vka_ratio_soil,k_dam,\n",
    "                                                         ET, precip-ET, \n",
    "                                                         'sim'+str(i).zfill(3), 'Simulation_More_Variations/sim'+str(i).zfill(3), period, \n",
    "                                                         [structure_ratio1,structure_ratio2])\n",
    "    print(i)\n",
    "    if np.isnan(head).any():\n",
    "        success_label[i] = 0\n",
    "        clear_directory('Simulation_More_Variations/sim'+str(i).zfill(3))\n",
    "df['success'] = success_label"
   ]
  },
  {
   "cell_type": "code",
   "execution_count": null,
   "id": "8ff1bb1c-ec0d-4692-8792-0153942406e7",
   "metadata": {},
   "outputs": [],
   "source": [
    "# Save the DataFrame to a CSV file\n",
    "df.to_csv('Simulation_More_Variations/Parameters.csv', index=False)"
   ]
  }
 ],
 "metadata": {
  "kernelspec": {
   "display_name": "Python 3 (ipykernel)",
   "language": "python",
   "name": "python3"
  },
  "language_info": {
   "codemirror_mode": {
    "name": "ipython",
    "version": 3
   },
   "file_extension": ".py",
   "mimetype": "text/x-python",
   "name": "python",
   "nbconvert_exporter": "python",
   "pygments_lexer": "ipython3",
   "version": "3.10.6"
  }
 },
 "nbformat": 4,
 "nbformat_minor": 5
}
