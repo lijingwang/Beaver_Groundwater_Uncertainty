{
 "cells": [
  {
   "cell_type": "code",
   "execution_count": null,
   "id": "604d6984-ba21-4f4f-a596-6ced4bc873b7",
   "metadata": {},
   "outputs": [],
   "source": [
    "import os\n",
    "import numpy as np\n",
    "import pandas as pd\n",
    "import matplotlib.pyplot as plt\n",
    "import seaborn as sns\n",
    "from numpy.linalg import norm\n",
    "import flopy\n",
    "import flopy.utils.binaryfile as bf\n",
    "%matplotlib inline\n",
    "%config InlineBackend.figure_format='retina'\n",
    "import rasterio\n",
    "from tqdm import tqdm\n",
    "from scipy.ndimage import maximum_filter\n",
    "from scipy.interpolate import griddata\n",
    "from sbi import utils as utils\n",
    "#from sbi import analysis as analysis\n",
    "from sbi.inference.base import infer\n",
    "#from sbi.inference import SNPE\n",
    "import torch\n",
    "import warnings\n",
    "\n",
    "warnings.filterwarnings(\"ignore\")\n",
    "# ! pip uninstall torch sbi scipy -y\n",
    "# ! pip install scipy=1.12.0\n",
    "# ! pip install sbi==0.21.0\n",
    "# ! pip install torch==2.0"
   ]
  },
  {
   "cell_type": "code",
   "execution_count": null,
   "id": "3b4b729d-c7b5-4054-92f7-1b3ea9a30c03",
   "metadata": {},
   "outputs": [],
   "source": [
    "import sys\n",
    "sys.path.append('../scripts/')\n",
    "from Slate_Floodplain_MODFLOW import *"
   ]
  },
  {
   "cell_type": "code",
   "execution_count": null,
   "id": "03af8d7c-d116-41e9-ba1b-c365d0c1dde3",
   "metadata": {},
   "outputs": [],
   "source": [
    "nlay = 16\n",
    "soil_nlay = 10\n",
    "gravel_nlay = nlay - soil_nlay\n",
    "dam_nlay = 5"
   ]
  },
  {
   "cell_type": "markdown",
   "id": "c7b28efc-d150-4a4a-8f58-3542b9e87b33",
   "metadata": {
    "tags": []
   },
   "source": [
    "# Observed data and simulated data"
   ]
  },
  {
   "cell_type": "code",
   "execution_count": null,
   "id": "8f27fcac-467b-415a-a9a0-dca26eefa7b9",
   "metadata": {},
   "outputs": [],
   "source": [
    "# Location\n",
    "locations = pd.read_csv('../data/response_data/preprocessing/locations_GB_VHG.csv')\n",
    "\n",
    "# Baseflow value\n",
    "baseflow_obs = pd.read_csv('../data/response_data/preprocessing/baseflow_obs_20210815.csv')"
   ]
  },
  {
   "cell_type": "code",
   "execution_count": null,
   "id": "4ef018b4-9b07-4575-8b7d-a41eedf93efa",
   "metadata": {},
   "outputs": [],
   "source": [
    "ncol = 480\n",
    "nrow = 460\n",
    "\n",
    "nlay = 16\n",
    "soil_nlay = 10\n",
    "gravel_nlay = nlay - soil_nlay\n",
    "dam_nlay = 5\n",
    "\n",
    "# setting up the vertical discretization and model bottom elevation\n",
    "zbot = np.zeros((nlay,nrow,ncol))\n",
    "\n",
    "# Soil layers\n",
    "for lay in np.arange(0,soil_nlay):    \n",
    "    zbot[lay,:,:] = DEM - np.maximum(gravel_interface*((lay+1)/soil_nlay),0.1*(lay+1)) \n",
    "\n",
    "# Gravel layers\n",
    "gravel_discretized_ratio = [0.02,0.04,0.1,0.3,0.6,1]\n",
    "for i, lay in enumerate(np.arange(soil_nlay, nlay)):\n",
    "    zbot[lay,:,:] = zbot[soil_nlay-1,:,:] - np.maximum(bedrock_interface*gravel_discretized_ratio[i],0.1*(i+1))\n",
    "    \n",
    "thickness = np.zeros(zbot.shape)\n",
    "for i in range(nlay):\n",
    "    if i == 0:\n",
    "        thickness[i,:,:] = DEM-zbot[i,:,:]\n",
    "    else:\n",
    "        thickness[i,:,:] = zbot[i-1,:,:]-zbot[i,:,:]\n",
    "depth_to_surface = DEM-zbot"
   ]
  },
  {
   "cell_type": "code",
   "execution_count": null,
   "id": "2332a1fb-380d-4c9b-8b5e-d43f99b0c215",
   "metadata": {},
   "outputs": [],
   "source": [
    "locations['X'] = np.int64(np.round(locations['Easting.UTM.13N']-bounds[0]))\n",
    "locations['Y'] = np.int64(bounds[3]-np.round(locations['Northing.UTM.13N']))\n",
    "locations['Z'] = np.argmin(np.abs(depth_to_surface[:,locations['Y'],locations['X']]-locations['Depth.m'].values.reshape(1,-1)),axis = 0)\n",
    "locations['Z'].iloc[7] +=1\n",
    "locations['Y'].iloc[11] = 221"
   ]
  },
  {
   "cell_type": "code",
   "execution_count": null,
   "id": "3e5f4345-8195-4170-b093-b2cd15be3b90",
   "metadata": {},
   "outputs": [],
   "source": [
    "def f_data(head):\n",
    "    return head[locations['Z'],locations['Y'],locations['X']]"
   ]
  },
  {
   "cell_type": "code",
   "execution_count": null,
   "id": "089871b4-11c0-4217-8b66-56d785dcb264",
   "metadata": {},
   "outputs": [],
   "source": [
    "head, flf, frf  = read_sim('./baseflow_test', 'test')"
   ]
  },
  {
   "cell_type": "code",
   "execution_count": null,
   "id": "9ef6fb7b-4786-49c8-92a2-f8a46ca8d275",
   "metadata": {},
   "outputs": [],
   "source": [
    "sim = f_data(head)"
   ]
  },
  {
   "cell_type": "code",
   "execution_count": null,
   "id": "e0fde92f-f3d5-458e-bd62-f1d97a2370b1",
   "metadata": {},
   "outputs": [],
   "source": [
    "plt.figure(figsize=[8,8])\n",
    "plt.scatter(sim,baseflow_obs['masl'])\n",
    "for i in range(len(locations)):\n",
    "    plt.text(sim[i],baseflow_obs['masl'][i],locations['ParameterColumnName'][i])\n",
    "plt.plot([2724.6,2725.8],[2724.6,2725.8],color = 'grey',linestyle = '--')\n",
    "plt.gca().set_aspect('equal')\n",
    "plt.xlabel('Simulation')\n",
    "plt.ylabel('Observed')\n",
    "# Default matches the gravel bed ok, but not the vertical hydraulic gradient, too small"
   ]
  },
  {
   "cell_type": "markdown",
   "id": "ea8e12ab-e219-4393-8ffb-8a158830e580",
   "metadata": {},
   "source": [
    "# Load all simulated data"
   ]
  },
  {
   "cell_type": "code",
   "execution_count": null,
   "id": "cabc8d62-b612-41ca-8824-8c5e5ccba6ee",
   "metadata": {},
   "outputs": [],
   "source": [
    "num_MC = 300\n",
    "head_MC = np.zeros([num_MC,head.shape[0],head.shape[1],head.shape[2]])\n",
    "flf_MC = np.zeros([num_MC,head.shape[0],head.shape[1],head.shape[2]])\n",
    "frf_MC = np.zeros([num_MC,head.shape[0],head.shape[1],head.shape[2]])\n",
    "sim_MC = np.zeros([num_MC,sim.shape[0]])\n",
    "\n",
    "for i in tqdm(range(num_MC)):\n",
    "    head,flf,frf = read_sim('./Prior_Simulation/sim'+str(i).zfill(3),'sim'+str(i).zfill(3))\n",
    "    head_MC[i,:,:,:] = head\n",
    "    flf_MC[i,:,:,:] = flf\n",
    "    frf_MC[i,:,:,:] = frf\n",
    "    sim_MC[i,:] = f_data(head)"
   ]
  },
  {
   "cell_type": "code",
   "execution_count": null,
   "id": "8edf6d3f-6ffa-4aed-81ad-aece352fe6c9",
   "metadata": {},
   "outputs": [],
   "source": [
    "sim_MC = pd.DataFrame(sim_MC,columns = baseflow_obs['ID'])"
   ]
  },
  {
   "cell_type": "code",
   "execution_count": null,
   "id": "96b105f3-d9e4-48b6-bacc-d3cc579efcbd",
   "metadata": {},
   "outputs": [],
   "source": [
    "# Define a dictionary to specify colors for each column\n",
    "column_colors = {\n",
    "    'GB2': 'C2', 'GB4': 'C2', 'GB5': 'C2', 'GB6': 'C2', 'GB7': 'C2', 'GB8': 'C2', 'GB9': 'C2','GB10':'C2',\n",
    "    'OBJ1-D': 'C1', 'OBJ1-M': 'C1', 'OBJ1-S': 'C1', 'OBJ2-D': 'C1', 'OBJ2-M': 'C1', 'OBJ2-S': 'C1', \n",
    "    'OBJ4-D': 'C1', 'OBJ4-M': 'C1', 'OBJ4-S': 'C1',\n",
    "    # Add more columns and colors as needed\n",
    "}"
   ]
  },
  {
   "cell_type": "code",
   "execution_count": null,
   "id": "fc8ac319-7129-4089-a16f-f24f93624127",
   "metadata": {},
   "outputs": [],
   "source": [
    "# Melt the DataFrame to convert it to long format\n",
    "melted_df = sim_MC.melt(var_name='Columns', value_name='Head (masl)')\n",
    "\n",
    "# Create a box plot using Seaborn\n",
    "plt.figure(figsize=(10, 3))  # Adjust figure size if needed\n",
    "sns.boxplot(x='Columns', y='Head (masl)', data=melted_df,palette=column_colors)\n",
    "\n",
    "plt.scatter(baseflow_obs['ID'],baseflow_obs['masl'],color = 'red',zorder = 100,label = 'observed')\n",
    "# Set the title and labels\n",
    "plt.title('Prior simulation')\n",
    "plt.xlabel('Columns')\n",
    "plt.ylabel('Values')\n",
    "\n",
    "plt.legend()\n",
    "\n",
    "# Rotate x-axis labels for better readability\n",
    "plt.xticks(rotation=45)\n",
    "#plt.ylim(2723.2,2725.9)\n",
    "# Show the plot\n",
    "plt.show()\n"
   ]
  },
  {
   "cell_type": "code",
   "execution_count": null,
   "id": "876be077-e2e2-49d7-ac88-632c85eb10bc",
   "metadata": {},
   "outputs": [],
   "source": [
    "sim_MC = sim_MC.drop(columns=['GB10'])"
   ]
  },
  {
   "cell_type": "code",
   "execution_count": null,
   "id": "f3b394e4-2726-44c4-8494-e83227599098",
   "metadata": {},
   "outputs": [],
   "source": [
    "IDs_to_remove = ['GB10']\n",
    "# Remove rows with specified IDs\n",
    "baseflow_obs_filtered = baseflow_obs[~baseflow_obs['ID'].isin(IDs_to_remove)]"
   ]
  },
  {
   "cell_type": "code",
   "execution_count": null,
   "id": "a4220d0b-8ef8-44d6-8422-47ac046bae55",
   "metadata": {},
   "outputs": [],
   "source": [
    "np.random.seed(1)\n",
    "noise = np.random.normal(0, 0.03, sim_MC.values.shape)\n",
    "sim_MC_w_noise = sim_MC + noise"
   ]
  },
  {
   "cell_type": "code",
   "execution_count": null,
   "id": "8bae5a49-37d1-4784-b0a4-152a45e848a8",
   "metadata": {},
   "outputs": [],
   "source": [
    "# Melt the DataFrame to convert it to long format\n",
    "melted_df = sim_MC_w_noise.melt(var_name='Columns', value_name='Head (masl)')\n",
    "\n",
    "# Create a box plot using Seaborn\n",
    "plt.figure(figsize=(12, 3))  # Adjust figure size if needed\n",
    "sns.boxplot(x='Columns', y='Head (masl)', data=melted_df,palette=column_colors, linewidth=1, fliersize=2)  \n",
    "\n",
    "plt.scatter(baseflow_obs_filtered['ID'],baseflow_obs_filtered['masl'],color = 'red',zorder = 100, alpha = 0.8, label = 'baseflow observations')\n",
    "#plt.scatter(baseflow_obs_filtered['ID'],sim_MC_w_noise.iloc[118,:],color = 'orange')\n",
    "\n",
    "# Set the title and labels\n",
    "plt.title('Prior simulation')\n",
    "plt.xlabel('Columns')\n",
    "plt.ylabel('Values')\n",
    "plt.legend()\n",
    "# Rotate x-axis labels for better readability\n",
    "plt.xticks()\n",
    "plt.ylim(2723.2,2725.9)\n",
    "# Show the plot\n",
    "plt.show()\n"
   ]
  },
  {
   "cell_type": "code",
   "execution_count": null,
   "id": "da7644f4-9ac4-470e-b3dc-d868feaef406",
   "metadata": {},
   "outputs": [],
   "source": [
    "paras = pd.read_csv('Prior_Simulation/Prior_Parameters.csv')\n",
    "paras = np.log10(paras)"
   ]
  },
  {
   "cell_type": "markdown",
   "id": "74f4d869-2d19-4e21-8fe5-bfa4960a419e",
   "metadata": {
    "tags": []
   },
   "source": [
    "# Calibration"
   ]
  },
  {
   "cell_type": "code",
   "execution_count": null,
   "id": "6c31e1a2-973e-4a72-86ce-6691bea6b0eb",
   "metadata": {},
   "outputs": [],
   "source": [
    "# hidden_features: Number of hidden features.\n",
    "# num_transforms: Number of transforms when a flow is used. Only relevant if\n",
    "#             density estimator is a normalizing flow (i.e. currently either a `maf` or a\n",
    "#             `nsf`). Ignored if density estimator is a `mdn` or `made`.\n",
    "\n",
    "# Prior\n",
    "prior = utils.BoxUniform(low=[-4,-6,-2,-2,-8], \n",
    "                         high=[-2,-4,0,0,-6])"
   ]
  },
  {
   "cell_type": "code",
   "execution_count": null,
   "id": "63c558e9-ed74-4b7a-851a-130abe585223",
   "metadata": {},
   "outputs": [],
   "source": [
    "from sbi.utils import posterior_nn"
   ]
  },
  {
   "cell_type": "markdown",
   "id": "a698ada4-05a0-458f-ba7e-7b46aa4b94cc",
   "metadata": {},
   "source": [
    "## Explore the hyperparameters "
   ]
  },
  {
   "cell_type": "code",
   "execution_count": null,
   "id": "80d448df-c0e1-44ce-8117-3806912f8e4d",
   "metadata": {},
   "outputs": [],
   "source": [
    "from itertools import product\n",
    "hidden_features_values = np.arange(1, 32, step=5)-1\n",
    "hidden_features_values[0] = 1\n",
    "num_transforms_values = np.arange(1, 7, step=1)\n",
    "\n",
    "# Perform grid search over hyperparameters\n",
    "hyperparameters_combinations = list(product(hidden_features_values, num_transforms_values))\n",
    "\n",
    "\n",
    "# Initialize lists to store hyperparameters and log probabilities\n",
    "hyperparameters = []\n",
    "log_probabilities = []\n",
    "best_val_log_probs = -100\n",
    "best_posterior = []\n",
    "# Validation_default 0.1 percent\n",
    "# Iterate over hyperparameter combinations\n",
    "for hidden_features, num_transforms in hyperparameters_combinations:\n",
    "\n",
    "    # Build density estimator with current hyperparameters\n",
    "    density_estimator_build_fun = posterior_nn(model=\"maf\", hidden_features=hidden_features, num_transforms=num_transforms)\n",
    "    inference = SNPE(prior, density_estimator=density_estimator_build_fun)\n",
    "\n",
    "    # Append simulations and train density estimator\n",
    "    density_estimator = inference.append_simulations(torch.tensor(np.array(paras.values,'float32')),\n",
    "                                                     torch.tensor(np.array(sim_MC_w_noise.values,'float32'))).train()\n",
    "    posterior = inference.build_posterior(density_estimator) \n",
    "    \n",
    "    \n",
    "    # Store hyperparameters\n",
    "    hyperparameters.append((hidden_features, num_transforms))\n",
    "\n",
    "    # Store training and validation log probabilities\n",
    "    log_probabilities.append((inference.summary['training_log_probs'][-1], inference.summary['validation_log_probs'][-1]))\n",
    "    \n",
    "    if inference.summary['validation_log_probs'][-1]>best_val_log_probs:\n",
    "        best_posterior = posterior\n",
    "        best_val_log_probs = inference.summary['validation_log_probs'][-1]\n",
    "        print('updated')\n",
    "    \n",
    "    print((hidden_features, num_transforms))\n",
    "    print((inference.summary['training_log_probs'][-1], inference.summary['validation_log_probs'][-1]))\n",
    "# Convert lists to NumPy array\n",
    "hyperparameters_array = np.array(hyperparameters)\n",
    "log_probabilities_array = np.array(log_probabilities)\n",
    "\n",
    "# Create DataFrame\n",
    "hyper_df = pd.DataFrame(data=np.hstack((hyperparameters_array, log_probabilities_array)), \n",
    "                  columns=['hidden_features', 'num_transforms', 'training_log_prob', 'validation_log_prob'])"
   ]
  },
  {
   "cell_type": "code",
   "execution_count": null,
   "id": "1f704942-d1a0-40ad-8094-4de3d514bade",
   "metadata": {},
   "outputs": [],
   "source": [
    "# Reshape log probabilities array into a matrix\n",
    "log_prob_matrix_training = log_probabilities_array[:, 0].reshape(len(hidden_features_values), len(num_transforms_values))\n",
    "log_prob_matrix_validation = log_probabilities_array[:, 1].reshape(len(hidden_features_values), len(num_transforms_values))\n",
    "\n",
    "# Create subplots\n",
    "fig, axes = plt.subplots(1, 2, figsize=(12, 5))\n",
    "\n",
    "# Plot training log probabilities\n",
    "im1 = axes[0].imshow(log_prob_matrix_training, origin='lower', extent=[min(num_transforms_values), max(num_transforms_values), min(hidden_features_values), max(hidden_features_values)], aspect='auto',vmin = -3,vmax = 1.5)\n",
    "axes[0].set_title('Training Log Probabilities')\n",
    "axes[0].set_xlabel('Num Transforms')\n",
    "axes[0].set_ylabel('Hidden Features')\n",
    "plt.colorbar(im1, ax=axes[0])\n",
    "\n",
    "# Plot validation log probabilities\n",
    "im2 = axes[1].imshow(log_prob_matrix_validation, origin='lower', extent=[min(num_transforms_values), max(num_transforms_values), min(hidden_features_values), max(hidden_features_values)], aspect='auto',vmin = -3,vmax = 1.5)\n",
    "axes[1].set_title('Validation Log Probabilities')\n",
    "axes[1].set_xlabel('Num Transforms')\n",
    "axes[1].set_ylabel('Hidden Features')\n",
    "plt.colorbar(im2, ax=axes[1])\n",
    "\n",
    "# Adjust layout\n",
    "plt.tight_layout()"
   ]
  },
  {
   "cell_type": "code",
   "execution_count": null,
   "id": "d549673e-984c-4533-ac22-fa267cb66cf1",
   "metadata": {},
   "outputs": [],
   "source": [
    "max_index = hyper_df['validation_log_prob'].idxmax()\n",
    "\n",
    "# Retrieve row corresponding to the maximum validation log probability\n",
    "hyper_df.loc[max_index]"
   ]
  },
  {
   "cell_type": "markdown",
   "id": "442ce995-6130-485f-9cc1-c95fbc1a9988",
   "metadata": {},
   "source": [
    "## Getting posterior samples"
   ]
  },
  {
   "cell_type": "markdown",
   "id": "eb01f8b6-71c4-4604-b3cf-7db58ef70b98",
   "metadata": {},
   "source": [
    "### Synthetic Case: use one simulated result as the dataset, we know the ground truth"
   ]
  },
  {
   "cell_type": "code",
   "execution_count": null,
   "id": "cfd55618-e2c2-454d-a959-cfc1bfe3a649",
   "metadata": {},
   "outputs": [],
   "source": [
    "synthetic_idx = 118\n",
    "data_obs_synthetic = sim_MC_w_noise.iloc[synthetic_idx,:]\n",
    "posterior_samples = best_posterior.sample((100000,),x=data_obs_synthetic)"
   ]
  },
  {
   "cell_type": "code",
   "execution_count": null,
   "id": "1c5069bb-d2c2-412f-bbc0-fa21d3522661",
   "metadata": {},
   "outputs": [],
   "source": [
    "posterior_samples = np.array(posterior_samples,dtype = 'float64')\n",
    "xlabel = ['log $K_{h}^{gravel}$ [m/s]','log $K_{h}^{soil}$ [m/s]','log($K_{v}^{gravel}/K_{h}^{gravel}$)','log($K_{v}^{soil}/K_{h}^{soil}$)','log $K^{dam}$ [m/s]']"
   ]
  },
  {
   "cell_type": "code",
   "execution_count": null,
   "id": "34234418-5cee-4ac5-83cd-174535c21abe",
   "metadata": {},
   "outputs": [],
   "source": [
    "# Set larger font sizes for all plot elements\n",
    "plt.rcParams.update({'font.size': 14, 'axes.labelsize': 14, 'axes.titlesize': 16, 'legend.fontsize': 12, 'xtick.labelsize': 12, 'ytick.labelsize': 12})\n",
    "\n",
    "# Assuming posterior_samples is a DataFrame and paras is defined\n",
    "\n",
    "# Convert posterior_samples to a DataFrame for easier handling, applying np.log10 transformation\n",
    "posterior_df = pd.DataFrame((posterior_samples), columns=paras.columns)\n",
    "\n",
    "# Number of variables\n",
    "n_variables = len(paras.columns)\n",
    "\n",
    "# Set up the figure for subplots\n",
    "fig, axes = plt.subplots(nrows=1, ncols=n_variables, figsize=(3.*n_variables, 2), sharey=True)\n",
    "\n",
    "# Ensure axes is iterable in case of a single subplot\n",
    "axes = np.atleast_1d(axes)\n",
    "\n",
    "# Iterate over each variable to create its plot\n",
    "for i, var_name in enumerate(paras.columns):\n",
    "    # Assuming uniform prior, specify the actual bounds of your uniform prior for each variable here\n",
    "    # Example bounds for demonstration; replace with your actual prior bounds\n",
    "    uniform_min, uniform_max = np.min(paras[var_name]), np.max(paras[var_name])\n",
    "    \n",
    "    # Filling the area for uniform prior\n",
    "    uniform_height = 1 / (uniform_max - uniform_min)\n",
    "    axes[i].fill_betweenx([0, uniform_height], uniform_min, uniform_max, alpha=0.3, color='C0', label='Prior')\n",
    "\n",
    "    # Plotting posterior KDE\n",
    "    print(posterior_df[var_name].std())\n",
    "    sns.kdeplot(posterior_df[var_name], ax=axes[i], fill=True, alpha=0.5,bw_adjust=1.5,label='Posterior', color='C1')\n",
    "    axes[i].vlines(x = paras.iloc[synthetic_idx].values[i],ymin = 0, ymax = 5, color = 'grey',linestyle = '--',label = 'Truth')\n",
    "    if i >0:\n",
    "        axes[i].set_ylabel('')\n",
    "    axes[i].set_xlabel('')\n",
    "    # Set x-axis limits to match the prior bounds\n",
    "    axes[i].set_xlim(uniform_min, uniform_max)\n",
    "    axes[i].set_ylim(0,3.4)\n",
    "    #axes[i].set_title(var_name)\n",
    "    axes[i].set_title(xlabel[i])\n",
    "#axes[i].legend()\n",
    "\n",
    "# Adjust layout for better visual\n",
    "plt.tight_layout()\n",
    "plt.show()\n"
   ]
  },
  {
   "cell_type": "code",
   "execution_count": null,
   "id": "976fcf1a-9cb1-4cf9-9add-d7bdc6213bae",
   "metadata": {},
   "outputs": [],
   "source": [
    "# Set larger font sizes for all plot elements\n",
    "plt.rcParams.update({'font.size': 14, 'axes.labelsize': 14, 'axes.titlesize': 16, 'legend.fontsize': 12, 'xtick.labelsize': 12, 'ytick.labelsize': 12})\n",
    "\n",
    "# Assuming posterior_samples is a DataFrame and paras is defined\n",
    "\n",
    "# Convert posterior_samples to a DataFrame for easier handling, applying np.log10 transformation\n",
    "posterior_df = pd.DataFrame((posterior_samples), columns=paras.columns)\n",
    "\n",
    "# Number of variables\n",
    "n_variables = len(paras.columns)\n",
    "\n",
    "# Set up the figure for subplots\n",
    "fig, axes = plt.subplots(nrows=1, ncols=n_variables, figsize=(3.*n_variables, 2), sharey=True)\n",
    "\n",
    "# Ensure axes is iterable in case of a single subplot\n",
    "axes = np.atleast_1d(axes)\n",
    "\n",
    "# Iterate over each variable to create its plot\n",
    "for i, var_name in enumerate(paras.columns):\n",
    "    # Assuming uniform prior, specify the actual bounds of your uniform prior for each variable here\n",
    "    # Example bounds for demonstration; replace with your actual prior bounds\n",
    "    uniform_min, uniform_max = np.min(paras[var_name]), np.max(paras[var_name])\n",
    "    \n",
    "    # Filling the area for uniform prior\n",
    "    uniform_height = 1 / (uniform_max - uniform_min)\n",
    "    axes[i].fill_betweenx([0, uniform_height], uniform_min, uniform_max, alpha=0.3, color='C0', label='Prior')\n",
    "\n",
    "    # Plotting posterior KDE\n",
    "    sns.kdeplot(posterior_df[var_name], ax=axes[i], fill=True, alpha=0.5,bw_adjust=1.5,label='Posterior', color='C1')\n",
    "    axes[i].vlines(x = paras.iloc[synthetic_idx].values[i],ymin = 0, ymax = 5, color = 'grey',linestyle = '--',label = 'Truth')\n",
    "    if i >0:\n",
    "        axes[i].set_ylabel('')\n",
    "    axes[i].set_xlabel('')\n",
    "    # Set x-axis limits to match the prior bounds\n",
    "    axes[i].set_xlim(uniform_min, uniform_max)\n",
    "    \n",
    "    #axes[i].set_title(var_name)\n",
    "    axes[i].set_title(xlabel[i])\n",
    "#axes[i].legend()\n",
    "\n",
    "# Adjust layout for better visual\n",
    "plt.tight_layout()\n",
    "plt.show()\n"
   ]
  },
  {
   "cell_type": "code",
   "execution_count": null,
   "id": "f30cd58e-7263-431b-89d7-90b23ffa78b3",
   "metadata": {},
   "outputs": [],
   "source": [
    "posterior_samples = pd.DataFrame(np.power(10,np.array(posterior_samples)),columns = paras.columns)"
   ]
  },
  {
   "cell_type": "code",
   "execution_count": null,
   "id": "8d7a3530-177c-4d09-8404-6a9a48ae258b",
   "metadata": {},
   "outputs": [],
   "source": [
    "from sbi.analysis import pairplot\n",
    "_ = pairplot(np.log10(posterior_samples.values))"
   ]
  },
  {
   "cell_type": "code",
   "execution_count": null,
   "id": "43579a8a-8c01-4055-bc65-32e46cb789e1",
   "metadata": {},
   "outputs": [],
   "source": [
    "prior_log_prob = np.array(posterior.log_prob(torch.from_numpy(paras.values).float(),x=data_obs))"
   ]
  },
  {
   "cell_type": "code",
   "execution_count": null,
   "id": "c18bd016-864f-4b8e-94eb-68865a6bd03b",
   "metadata": {},
   "outputs": [],
   "source": [
    "#posterior_samples.to_csv('Posterior_Simulation_synthetic/Posterior_Parameters.csv')"
   ]
  },
  {
   "cell_type": "markdown",
   "id": "6da2e735-9902-4772-ab63-db939883b76c",
   "metadata": {},
   "source": [
    "### Actual observation"
   ]
  },
  {
   "cell_type": "code",
   "execution_count": null,
   "id": "c0535f0e-4029-47e1-b34a-13f60f15ef64",
   "metadata": {},
   "outputs": [],
   "source": [
    "data_obs = baseflow_obs_filtered['masl'].values\n",
    "posterior_samples = best_posterior.sample((100000,),x=data_obs)"
   ]
  },
  {
   "cell_type": "code",
   "execution_count": null,
   "id": "aa5589dd-212f-4094-947b-15df063a4bf8",
   "metadata": {},
   "outputs": [],
   "source": [
    "posterior_samples = np.array(posterior_samples,dtype = 'float64')\n",
    "xlabel = ['log $K_{h}^{gravel}$ [m/s]','log $K_{h}^{soil}$ [m/s]','log($K_{v}^{gravel}/K_{h}^{gravel}$)','log($K_{v}^{soil}/K_{h}^{soil}$)','log $K^{dam}$ [m/s]']"
   ]
  },
  {
   "cell_type": "code",
   "execution_count": null,
   "id": "a27ec665-1b92-4fa2-b212-89b15ffeed08",
   "metadata": {},
   "outputs": [],
   "source": [
    "# Set larger font sizes for all plot elements\n",
    "plt.rcParams.update({'font.size': 14, 'axes.labelsize': 14, 'axes.titlesize': 16, 'legend.fontsize': 12, 'xtick.labelsize': 12, 'ytick.labelsize': 12})\n",
    "\n",
    "# Assuming posterior_samples is a DataFrame and paras is defined\n",
    "\n",
    "# Convert posterior_samples to a DataFrame for easier handling, applying np.log10 transformation\n",
    "posterior_df = pd.DataFrame((posterior_samples), columns=paras.columns)\n",
    "\n",
    "# Number of variables\n",
    "n_variables = len(paras.columns)\n",
    "\n",
    "# Set up the figure for subplots\n",
    "fig, axes = plt.subplots(nrows=1, ncols=n_variables, figsize=(3.*n_variables, 2), sharey=True)\n",
    "\n",
    "# Ensure axes is iterable in case of a single subplot\n",
    "axes = np.atleast_1d(axes)\n",
    "\n",
    "# Iterate over each variable to create its plot\n",
    "for i, var_name in enumerate(paras.columns):\n",
    "    # Assuming uniform prior, specify the actual bounds of your uniform prior for each variable here\n",
    "    # Example bounds for demonstration; replace with your actual prior bounds\n",
    "    uniform_min, uniform_max = np.min(paras[var_name]), np.max(paras[var_name])\n",
    "    \n",
    "    # Filling the area for uniform prior\n",
    "    uniform_height = 1 / (uniform_max - uniform_min)\n",
    "    axes[i].fill_betweenx([0, uniform_height], uniform_min, uniform_max, alpha=0.3, color='C0', label='Prior')\n",
    "\n",
    "    # Plotting posterior KDE\n",
    "    sns.kdeplot(posterior_df[var_name], ax=axes[i], fill=True, alpha=0.5,bw_adjust=1.5,label='Posterior', color='C1')\n",
    "    if i >0:\n",
    "        axes[i].set_ylabel('')\n",
    "    axes[i].set_xlabel('')\n",
    "    # Set x-axis limits to match the prior bounds\n",
    "    axes[i].set_xlim(uniform_min, uniform_max)\n",
    "    \n",
    "    #axes[i].set_title(var_name)\n",
    "    axes[i].set_title(xlabel[i])\n",
    "axes[i].legend()\n",
    "\n",
    "# Adjust layout for better visual\n",
    "plt.tight_layout()\n",
    "plt.show()\n"
   ]
  },
  {
   "cell_type": "code",
   "execution_count": null,
   "id": "c38036b4-4cca-4458-b47d-a9ae049472f0",
   "metadata": {},
   "outputs": [],
   "source": [
    "posterior_samples = pd.DataFrame(np.power(10,np.array(posterior_samples)),columns = paras.columns)"
   ]
  },
  {
   "cell_type": "code",
   "execution_count": null,
   "id": "1a0e241c-0271-402e-affa-89999338d47a",
   "metadata": {},
   "outputs": [],
   "source": [
    "from sbi.analysis import pairplot\n",
    "_ = pairplot(np.log10(posterior_samples.values))"
   ]
  },
  {
   "cell_type": "code",
   "execution_count": null,
   "id": "f3afbba2-c1b0-4265-8419-89491c4b2a24",
   "metadata": {},
   "outputs": [],
   "source": [
    "prior_log_prob = np.array(posterior.log_prob(torch.from_numpy(paras.values).float(),x=data_obs))"
   ]
  },
  {
   "cell_type": "code",
   "execution_count": null,
   "id": "a0a0c2ac-f87f-4551-8e02-4474003b50f5",
   "metadata": {},
   "outputs": [],
   "source": [
    "# Create a box plot using Seaborn\n",
    "plt.figure(figsize=(10, 3))  # Adjust figure size if needed\n",
    "# Melt the DataFrame to convert it to long format\n",
    "#melted_df = sim_MC.melt(var_name='Columns', value_name='Head (masl)')\n",
    "#sns.boxplot(x='Columns', y='Head (masl)', data=melted_df)\n",
    "melted_df = sim_MC_w_noise.iloc[prior_log_prob>-10].melt(var_name='Columns', value_name='Head (masl)')\n",
    "sns.boxplot(x='Columns', y='Head (masl)', data=melted_df)\n",
    "plt.scatter(baseflow_obs_filtered['ID'],baseflow_obs_filtered['masl'],color = 'red')\n",
    "\n",
    "# Set the title and labels\n",
    "plt.title('Prior simulation')\n",
    "plt.xlabel('Columns')\n",
    "plt.ylabel('Values')\n",
    "\n",
    "# Rotate x-axis labels for better readability\n",
    "plt.xticks(rotation=45)\n",
    "plt.ylim(2723.5,2726)\n",
    "# Show the plot\n",
    "plt.show()\n"
   ]
  },
  {
   "cell_type": "code",
   "execution_count": null,
   "id": "7c3320a6-a348-4b4e-b9e8-95f0cd1f138e",
   "metadata": {},
   "outputs": [],
   "source": [
    "posterior_samples.to_csv('Posterior_Simulation/Posterior_Parameters.csv')"
   ]
  },
  {
   "cell_type": "markdown",
   "id": "6ad5c4a7-4087-4376-b48f-038e767d7384",
   "metadata": {},
   "source": [
    "# Posterior simulation, Set 2"
   ]
  },
  {
   "cell_type": "code",
   "execution_count": null,
   "id": "552e18fc-12b2-462c-aea7-6e6d5b5c83ef",
   "metadata": {},
   "outputs": [],
   "source": [
    "posterior_samples = pd.read_csv('Posterior_Simulation/Posterior_Parameters.csv')\n",
    "posterior_samples = posterior_samples[posterior_samples.columns[1:]]"
   ]
  },
  {
   "cell_type": "markdown",
   "id": "5fa9aa94-d88f-4846-b34d-103dc9c418f7",
   "metadata": {},
   "source": [
    "## Set 2A"
   ]
  },
  {
   "cell_type": "code",
   "execution_count": null,
   "id": "f260a98e-539e-4311-9999-16a3682686d5",
   "metadata": {},
   "outputs": [],
   "source": [
    "precip = 2e-3 #m/d\n",
    "ET = 2e-3 #m/d\n",
    "num_MC = 300\n",
    "for i in range(num_MC):\n",
    "    hk_gravel,hk_soil,vka_ratio_gravel,vka_ratio_soil,k_dam = posterior_samples.iloc[i]\n",
    "    mf,head,hk,vka,strt,zbot,flf,frf = modflow_BC(hk_gravel,hk_soil,vka_ratio_gravel,vka_ratio_soil,k_dam,\n",
    "                                                  ET,precip, 'sim'+str(i).zfill(3), 'Posterior_Simulation/sim'+str(i).zfill(3))\n",
    "    print(i)"
   ]
  },
  {
   "cell_type": "markdown",
   "id": "2bf55685-c60a-4dfb-8082-060b7b509344",
   "metadata": {},
   "source": [
    "## Set 2B"
   ]
  },
  {
   "cell_type": "code",
   "execution_count": null,
   "id": "a42cb983-a074-439c-b52a-3a72b21b5f06",
   "metadata": {},
   "outputs": [],
   "source": [
    "precip = 1e-3 #m/d\n",
    "ET = 2e-3 #m/d\n",
    "num_MC = 300\n",
    "period = 'dry'\n",
    "for i in range(num_MC):\n",
    "    hk_gravel,hk_soil,vka_ratio_gravel,vka_ratio_soil,k_dam = posterior_samples.iloc[i]\n",
    "    mf,head,hk,vka,strt,zbot,flf,frf = modflow_BC(hk_gravel,hk_soil,vka_ratio_gravel,vka_ratio_soil,k_dam,\n",
    "                                                  ET,precip, 'sim'+str(i).zfill(3), 'Posterior_Simulation_Drypond/sim'+str(i).zfill(3),  period)\n",
    "    print(i)"
   ]
  },
  {
   "cell_type": "markdown",
   "id": "76c0df2e-53d8-4d4c-b719-b396ab5cf360",
   "metadata": {},
   "source": [
    "## Set 2C"
   ]
  },
  {
   "cell_type": "code",
   "execution_count": null,
   "id": "9f929a9f-79de-42cc-8a6b-032b2ad482bf",
   "metadata": {},
   "outputs": [],
   "source": [
    "precip = 1.5e-3 #m/d\n",
    "ET = 3e-3 #m/d\n",
    "num_MC = 300\n",
    "period = 'snowmelt'\n",
    "for i in range(num_MC):\n",
    "    hk_gravel,hk_soil,vka_ratio_gravel,vka_ratio_soil,k_dam = posterior_samples.iloc[i]\n",
    "    mf,head,hk,vka,strt,zbot,flf,frf = modflow_BC(hk_gravel,hk_soil,vka_ratio_gravel,vka_ratio_soil,k_dam,\n",
    "                                                  ET,precip, 'sim'+str(i).zfill(3), 'Posterior_Simulation_Snowmelt/sim'+str(i).zfill(3),  period)\n",
    "    print(i)"
   ]
  },
  {
   "cell_type": "markdown",
   "id": "e7f31439-9d96-460e-8d9f-d77afa7b3e68",
   "metadata": {},
   "source": [
    "## Synthetic inversion test"
   ]
  },
  {
   "cell_type": "code",
   "execution_count": null,
   "id": "f6cb0c69-b347-4b8a-aa62-83046d462d7a",
   "metadata": {},
   "outputs": [],
   "source": [
    "posterior_samples = pd.read_csv('Posterior_Simulation_synthetic/Posterior_Parameters.csv')\n",
    "posterior_samples = posterior_samples[posterior_samples.columns[1:]]"
   ]
  },
  {
   "cell_type": "code",
   "execution_count": null,
   "id": "9f964752-7cc7-4a73-a100-5eda014b0d77",
   "metadata": {},
   "outputs": [],
   "source": [
    "precip = 2e-3 #m/d\n",
    "ET = 2e-3 #m/d\n",
    "num_MC = 300\n",
    "for i in range(num_MC):\n",
    "    hk_gravel,hk_soil,vka_ratio_gravel,vka_ratio_soil,k_dam = posterior_samples.iloc[i]\n",
    "    mf,head,hk,vka,strt,zbot,flf,frf = modflow_BC(hk_gravel,hk_soil,vka_ratio_gravel,vka_ratio_soil,k_dam,\n",
    "                                                  ET,precip, 'sim'+str(i).zfill(3), 'Posterior_Simulation_synthetic/sim'+str(i).zfill(3))\n",
    "    print(i)"
   ]
  },
  {
   "cell_type": "markdown",
   "id": "419ab3c5-3f22-4487-817e-da3edd9813ca",
   "metadata": {},
   "source": [
    "# Posterior visualization"
   ]
  },
  {
   "cell_type": "code",
   "execution_count": null,
   "id": "23a3938f-b95a-46d5-9085-aff3b924feca",
   "metadata": {},
   "outputs": [],
   "source": [
    "num_MC = 300\n",
    "head_MC_pos = np.zeros([num_MC,head.shape[0],head.shape[1],head.shape[2]])\n",
    "flf_MC_pos = np.zeros([num_MC,head.shape[0],head.shape[1],head.shape[2]])\n",
    "frf_MC_pos = np.zeros([num_MC,head.shape[0],head.shape[1],head.shape[2]])\n",
    "sim_MC_pos = np.zeros([num_MC,sim.shape[0]])\n",
    "\n",
    "for i in tqdm(range(num_MC)):\n",
    "    head,flf,frf = read_sim('./Posterior_Simulation/sim'+str(i).zfill(3),'sim'+str(i).zfill(3))\n",
    "    head_MC_pos[i,:,:,:] = head\n",
    "    flf_MC_pos[i,:,:,:] = flf\n",
    "    frf_MC_pos[i,:,:,:] = frf\n",
    "    sim_MC_pos[i,:] = f_data(head)"
   ]
  },
  {
   "cell_type": "code",
   "execution_count": null,
   "id": "421e0bd2-8137-42cb-8f56-bc7658576a01",
   "metadata": {},
   "outputs": [],
   "source": [
    "sim_MC_pos = pd.DataFrame(sim_MC_pos,columns = baseflow_obs['ID'])"
   ]
  },
  {
   "cell_type": "code",
   "execution_count": null,
   "id": "d9309de2-5b23-4f0d-94ff-d0b35b20a861",
   "metadata": {},
   "outputs": [],
   "source": [
    "mismatch = sim_MC_pos.values -baseflow_obs['masl'].values.reshape(1,-1)"
   ]
  },
  {
   "cell_type": "code",
   "execution_count": null,
   "id": "203d5878-5175-4500-8baa-446fde24fb75",
   "metadata": {},
   "outputs": [],
   "source": [
    "plt.figure(figsize=[8,8])\n",
    "plt.scatter(sim_MC_pos.iloc[np.argmin(np.nansum(np.abs(mismatch),axis = 1))],baseflow_obs['masl'])\n",
    "for i in range(len(locations)):\n",
    "    plt.text(sim_MC_pos.iloc[np.argmin(np.nansum(np.abs(mismatch),axis = 1))][i],baseflow_obs['masl'][i],locations['ParameterColumnName'][i])\n",
    "plt.plot([2724.6,2725.8],[2724.6,2725.8],color = 'grey',linestyle = '--')\n",
    "plt.gca().set_aspect('equal')\n",
    "plt.xlabel('Simulation')\n",
    "plt.ylabel('Observed')\n",
    "# Default matches the gravel bed ok, but not the vertical hydraulic gradient, too small"
   ]
  },
  {
   "cell_type": "code",
   "execution_count": null,
   "id": "0fa77db0-f226-4eaf-91f1-4dcafa72b3c2",
   "metadata": {},
   "outputs": [],
   "source": [
    "sim_MC_pos = pd.DataFrame(sim_MC_pos,columns = baseflow_obs['ID'])\n",
    "sim_MC_pos = sim_MC_pos.drop(columns=['GB10'])"
   ]
  },
  {
   "cell_type": "code",
   "execution_count": null,
   "id": "e77a2570-2dd0-41ba-b537-293bee709f50",
   "metadata": {},
   "outputs": [],
   "source": [
    "sim_MC_pos_w_noise = sim_MC_pos + noise"
   ]
  },
  {
   "cell_type": "code",
   "execution_count": null,
   "id": "8b5dad1d-63e2-49bd-939a-207df1478890",
   "metadata": {},
   "outputs": [],
   "source": [
    "# Melt the DataFrame to convert it to long format\n",
    "melted_df = sim_MC_w_noise.melt(var_name='Columns', value_name='Head (masl)')\n",
    "\n",
    "# Create a box plot using Seaborn\n",
    "plt.figure(figsize=(14, 3))  # Adjust figure size if needed\n",
    "sns.boxplot(x='Columns', y='Head (masl)', data=melted_df,palette=column_colors, linewidth=1, fliersize=2)  \n",
    "\n",
    "plt.scatter(baseflow_obs_filtered['ID'],baseflow_obs_filtered['masl'],color = 'red',zorder = 100, alpha = 0.8, label = 'baseflow observations')\n",
    "#plt.scatter(baseflow_obs_filtered['ID'],sim_MC_w_noise.iloc[118,:],color = 'orange')\n",
    "\n",
    "# Set the title and labels\n",
    "plt.title('Prior simulation')\n",
    "plt.ylabel('Water Level Elevation (m)')\n",
    "plt.legend()\n",
    "# Rotate x-axis labels for better readability\n",
    "plt.xticks()\n",
    "plt.xlabel('')\n",
    "plt.ylim(2723.2,2725.9)\n",
    "# Show the plot\n",
    "plt.show()\n"
   ]
  },
  {
   "cell_type": "code",
   "execution_count": null,
   "id": "4fd284a0-6a0e-486e-add9-0593d55ba8cb",
   "metadata": {},
   "outputs": [],
   "source": [
    "# Melt the DataFrame to convert it to long format\n",
    "melted_df = sim_MC_pos_w_noise.melt(var_name='Columns', value_name='Head (masl)')\n",
    "\n",
    "# Create a box plot using Seaborn\n",
    "plt.figure(figsize=(14, 3))  # Adjust figure size if needed\n",
    "sns.boxplot(x='Columns', y='Head (masl)', data=melted_df,palette=column_colors, linewidth=1, fliersize=2)  \n",
    "\n",
    "plt.scatter(baseflow_obs_filtered['ID'],baseflow_obs_filtered['masl'],color = 'red',zorder = 100,alpha = 0.8, label = 'baseflow observations')\n",
    "# Set the title and labels\n",
    "plt.title('Posterior simulation: Baseflow observations')\n",
    "#plt.xlabel('Columns')\n",
    "plt.ylabel('Water Level Elevation (m)')\n",
    "plt.legend()\n",
    "\n",
    "# Rotate x-axis labels for better readability\n",
    "plt.xlabel('')\n",
    "plt.ylim(2723.2,2725.9)\n",
    "# Show the plot\n",
    "plt.show()\n"
   ]
  },
  {
   "cell_type": "code",
   "execution_count": null,
   "id": "3986af87-d7bc-419c-bbcf-162b24de9642",
   "metadata": {},
   "outputs": [],
   "source": [
    "posterior_samples = pd.read_csv('Posterior_Simulation/Posterior_Parameters.csv')\n",
    "posterior_samples = np.log10(posterior_samples[posterior_samples.columns[1:]])"
   ]
  },
  {
   "cell_type": "code",
   "execution_count": null,
   "id": "bf0ed7ea-dda8-4263-97a1-6559811af191",
   "metadata": {},
   "outputs": [],
   "source": [
    "xlabel = ['log $K_{h}^{gravel}$ [m/s]','log $K_{h}^{soil}$ [m/s]','log($K_{v}^{gravel}/K_{h}^{gravel}$)','log($K_{v}^{soil}/K_{h}^{soil}$)','log $K^{dam}$ [m/s]']"
   ]
  },
  {
   "cell_type": "code",
   "execution_count": null,
   "id": "2739285d-8360-4a8e-85d3-8a083b47ffe1",
   "metadata": {},
   "outputs": [],
   "source": [
    "# Default values \n",
    "observed_parameters = [2e-3,1.4e-5, np.nan, 1.6e-6/1.4e-5, np.nan]\n"
   ]
  },
  {
   "cell_type": "code",
   "execution_count": null,
   "id": "a3552ab7-4ac0-4d4f-a3c7-6ee2cc4e647f",
   "metadata": {},
   "outputs": [],
   "source": [
    "# Set larger font sizes for all plot elements\n",
    "plt.rcParams.update({'font.size': 14, 'axes.labelsize': 14, 'axes.titlesize': 16, 'legend.fontsize': 12, 'xtick.labelsize': 12, 'ytick.labelsize': 12})\n",
    "\n",
    "# Assuming posterior_samples is a DataFrame and paras is defined\n",
    "\n",
    "# Convert posterior_samples to a DataFrame for easier handling, applying np.log10 transformation\n",
    "posterior_df = pd.DataFrame((posterior_samples), columns=paras.columns)\n",
    "\n",
    "# Number of variables\n",
    "n_variables = len(paras.columns)\n",
    "\n",
    "# Set up the figure for subplots\n",
    "fig, axes = plt.subplots(nrows=1, ncols=n_variables, figsize=(3.*n_variables, 2), sharey=True)\n",
    "\n",
    "# Ensure axes is iterable in case of a single subplot\n",
    "axes = np.atleast_1d(axes)\n",
    "\n",
    "# Iterate over each variable to create its plot\n",
    "for i, var_name in enumerate(paras.columns):\n",
    "    # Assuming uniform prior, specify the actual bounds of your uniform prior for each variable here\n",
    "    # Example bounds for demonstration; replace with your actual prior bounds\n",
    "    uniform_min, uniform_max = np.min(paras[var_name]), np.max(paras[var_name])\n",
    "    \n",
    "    # Filling the area for uniform prior\n",
    "    uniform_height = 1 / (uniform_max - uniform_min)\n",
    "    axes[i].fill_betweenx([0, uniform_height], uniform_min, uniform_max, alpha=0.3, color='C0', label='Prior')\n",
    "\n",
    "    # Plotting posterior KDE\n",
    "    sns.kdeplot(posterior_df[var_name], ax=axes[i], fill=True, alpha=0.5,bw_adjust=1.5,label='Posterior', color='C1')\n",
    "    if i >0:\n",
    "        axes[i].set_ylabel('')\n",
    "    axes[i].set_xlabel('')\n",
    "    # Set x-axis limits to match the prior bounds\n",
    "    axes[i].set_xlim(uniform_min, uniform_max)\n",
    "    axes[i].set_ylim(0, 5)\n",
    "    axes[i].vlines(x = np.log10(observed_parameters[i]),ymin = 0,ymax = 5, color = 'lightgrey',linestyle = '--',label = 'One observed')\n",
    "\n",
    "    #axes[i].set_title(var_name)\n",
    "    axes[i].set_title(xlabel[i])\n",
    "#axes[i].legend()\n",
    "\n",
    "\n",
    "# Adjust layout for better visual\n",
    "plt.tight_layout()\n",
    "plt.show()\n"
   ]
  },
  {
   "cell_type": "code",
   "execution_count": null,
   "id": "cb5f026a-89e6-4fdc-a0a9-c26ce6704d08",
   "metadata": {},
   "outputs": [],
   "source": [
    "plt.figure(figsize=[3,2])\n",
    "sns.kdeplot(paras['hk_soil']+paras['vka_ratio_soil'],\n",
    "            fill=True, alpha=0.5,bw_adjust=1.5,label='Prior', color='C0')\n",
    "sns.kdeplot(posterior_samples['hk_soil']+posterior_samples['vka_ratio_soil'],\n",
    "            fill=True, alpha=0.5,bw_adjust=1.5,label='Posterior', color='C1')\n",
    "plt.vlines(x = np.log10(1.6e-6),ymin = 0,ymax = 5, color = 'lightgrey',linestyle = '--',label = 'True')\n",
    "plt.title('log($K_{v}^{soil}$) [m/s]')\n",
    "plt.yticks([0,2.5,5])\n",
    "plt.ylim(0,5)\n",
    "plt.ylabel('')\n",
    "\n",
    "plt.tight_layout()"
   ]
  },
  {
   "cell_type": "code",
   "execution_count": null,
   "id": "a967434b-1669-4de9-88ae-af356f7fa8d1",
   "metadata": {},
   "outputs": [],
   "source": [
    "num_MC = 300\n",
    "head_MC_pos = np.zeros([num_MC,head.shape[0],head.shape[1],head.shape[2]])\n",
    "flf_MC_pos = np.zeros([num_MC,head.shape[0],head.shape[1],head.shape[2]])\n",
    "frf_MC_pos = np.zeros([num_MC,head.shape[0],head.shape[1],head.shape[2]])\n",
    "sim_MC_pos = np.zeros([num_MC,sim.shape[0]])\n",
    "\n",
    "for i in tqdm(range(num_MC)):\n",
    "    head,flf,frf = read_sim('./Posterior_Simulation_synthetic/sim'+str(i).zfill(3),'sim'+str(i).zfill(3))\n",
    "    head_MC_pos[i,:,:,:] = head\n",
    "    flf_MC_pos[i,:,:,:] = flf\n",
    "    frf_MC_pos[i,:,:,:] = frf\n",
    "    sim_MC_pos[i,:] = f_data(head)"
   ]
  },
  {
   "cell_type": "code",
   "execution_count": null,
   "id": "3307d2ce-8eb4-425d-97e2-dbc9a88615cb",
   "metadata": {},
   "outputs": [],
   "source": [
    "sim_MC_pos = pd.DataFrame(sim_MC_pos,columns = baseflow_obs['ID'])\n",
    "sim_MC_pos = sim_MC_pos.drop(columns=['GB10'])"
   ]
  },
  {
   "cell_type": "code",
   "execution_count": null,
   "id": "ee6142bd-f88a-4f28-83a3-0d0a42d56ad0",
   "metadata": {},
   "outputs": [],
   "source": [
    "sim_MC_pos_w_noise = sim_MC_pos + noise"
   ]
  },
  {
   "cell_type": "code",
   "execution_count": null,
   "id": "470c5aeb-bc36-4a4f-8931-a31cb6d8934b",
   "metadata": {},
   "outputs": [],
   "source": [
    "# Melt the DataFrame to convert it to long format\n",
    "melted_df = sim_MC_pos_w_noise.melt(var_name='Columns', value_name='Head (masl)')\n",
    "\n",
    "# Create a box plot using Seaborn\n",
    "plt.figure(figsize=(14, 3))  # Adjust figure size if needed\n",
    "sns.boxplot(x='Columns', y='Head (masl)', data=melted_df,palette=column_colors, linewidth=1, fliersize=2)  \n",
    "\n",
    "plt.scatter(baseflow_obs_filtered['ID'],data_obs_synthetic,color = 'yellow',zorder = 100,alpha = 0.8, label = 'synthetic observations')\n",
    "# Set the title and labels\n",
    "plt.title('Posterior simulation: Synthetic observations')\n",
    "#plt.xlabel('Columns')\n",
    "plt.ylabel('Water Level Elevation (m)')\n",
    "plt.legend()\n",
    "\n",
    "# Rotate x-axis labels for better readability\n",
    "#plt.xticks(rotation=45)\n",
    "plt.xlabel('')\n",
    "plt.ylim(2723.2,2725.9)\n",
    "# Show the plot\n",
    "plt.show()\n"
   ]
  },
  {
   "cell_type": "code",
   "execution_count": null,
   "id": "53c51f34-1c2a-49b2-8593-2bb4ee7bf1aa",
   "metadata": {},
   "outputs": [],
   "source": [
    "posterior_samples = pd.read_csv('Posterior_Simulation_synthetic/Posterior_Parameters.csv')\n",
    "posterior_samples = np.log10(posterior_samples[posterior_samples.columns[1:]])"
   ]
  },
  {
   "cell_type": "code",
   "execution_count": null,
   "id": "84a9e38a-d55a-4105-aa36-c0c16ef60c21",
   "metadata": {},
   "outputs": [],
   "source": [
    "# Set larger font sizes for all plot elements\n",
    "plt.rcParams.update({'font.size': 14, 'axes.labelsize': 14, 'axes.titlesize': 16, 'legend.fontsize': 12, 'xtick.labelsize': 12, 'ytick.labelsize': 12})\n",
    "\n",
    "# Assuming posterior_samples is a DataFrame and paras is defined\n",
    "\n",
    "# Convert posterior_samples to a DataFrame for easier handling, applying np.log10 transformation\n",
    "posterior_df = pd.DataFrame((posterior_samples), columns=paras.columns)\n",
    "\n",
    "# Number of variables\n",
    "n_variables = len(paras.columns)\n",
    "\n",
    "# Set up the figure for subplots\n",
    "fig, axes = plt.subplots(nrows=1, ncols=n_variables, figsize=(3.*n_variables, 2), sharey=True)\n",
    "\n",
    "# Ensure axes is iterable in case of a single subplot\n",
    "axes = np.atleast_1d(axes)\n",
    "\n",
    "# Iterate over each variable to create its plot\n",
    "for i, var_name in enumerate(paras.columns):\n",
    "    # Assuming uniform prior, specify the actual bounds of your uniform prior for each variable here\n",
    "    # Example bounds for demonstration; replace with your actual prior bounds\n",
    "    uniform_min, uniform_max = np.min(paras[var_name]), np.max(paras[var_name])\n",
    "    \n",
    "    # Filling the area for uniform prior\n",
    "    uniform_height = 1 / (uniform_max - uniform_min)\n",
    "    axes[i].fill_betweenx([0, uniform_height], uniform_min, uniform_max, alpha=0.3, color='C0', label='Prior')\n",
    "\n",
    "    # Plotting posterior KDE\n",
    "    sns.kdeplot(posterior_df[var_name], ax=axes[i], fill=True, alpha=0.5,bw_adjust=1.5,label='Posterior', color='C1')\n",
    "    if i >0:\n",
    "        axes[i].set_ylabel('')\n",
    "    axes[i].set_xlabel('')\n",
    "    axes[i]\n",
    "    # Set x-axis limits to match the prior bounds\n",
    "    axes[i].set_xlim(uniform_min, uniform_max)\n",
    "    axes[i].vlines(x = paras.iloc[synthetic_idx,i],ymin = 0,ymax = 3, color = 'grey',linestyle = '--',label = 'True')\n",
    "    #axes[i].set_title(var_name)\n",
    "    axes[i].set_title(xlabel[i])\n",
    "axes[i].legend()\n",
    "\n",
    "# Adjust layout for better visual\n",
    "plt.tight_layout()\n",
    "\n",
    "plt.show()\n"
   ]
  }
 ],
 "metadata": {
  "kernelspec": {
   "display_name": "Python 3 (ipykernel)",
   "language": "python",
   "name": "python3"
  },
  "language_info": {
   "codemirror_mode": {
    "name": "ipython",
    "version": 3
   },
   "file_extension": ".py",
   "mimetype": "text/x-python",
   "name": "python",
   "nbconvert_exporter": "python",
   "pygments_lexer": "ipython3",
   "version": "3.9.18"
  }
 },
 "nbformat": 4,
 "nbformat_minor": 5
}
